{
 "cells": [
  {
   "cell_type": "code",
   "execution_count": 12,
   "id": "dbf838ae",
   "metadata": {},
   "outputs": [
    {
     "name": "stdout",
     "output_type": "stream",
     "text": [
      "    customer_id                                                LTV\n",
      "0  96f55c7d8f42  12.34 USD12.34 USD12.34 USD12.34 USD12.34 USD1...\n"
     ]
    }
   ],
   "source": [
    "import pandas as pd #importing pandas library with alias pd\n",
    "\n",
    "# Read event data from the text file into a Pandas DataFrame\n",
    "file_path = \"C:/Users/subed/Desktop/events.txt\"\n",
    "\n",
    "# Read the JSON file and loads it into a structured data format\n",
    "events = pd.read_json(file_path)\n",
    "\n",
    "# Filter relevant events and calculate LTV\n",
    "\n",
    "# Creating a new DataFrame called site_visits containing only the relevant events.\n",
    "site_visits = events[events['type'] == 'SITE_VISIT']\n",
    "\n",
    "#creating a new DataFrame called orders containing order events.\n",
    "orders = events[events['type'] == 'ORDER']\n",
    "\n",
    "# Grouping the site_visits DataFrame by customer_id and calculates the size (count) of site visits for each customer.\n",
    "site_visits_count = site_visits.groupby('customer_id').size()\n",
    "\n",
    "# the orders DataFrame is grouped by 'customer_id', and the 'total_amount' column is summed for each customer.\n",
    "total_order_amount = orders.groupby('customer_id')['total_amount'].sum()\n",
    "\n",
    "#calculates the Lifetime Value (LTV) for each customer. \n",
    "ltv = (site_visits_count * total_order_amount * 52 * 10).reset_index()\n",
    "\n",
    "#Renaming for clarity\n",
    "ltv.columns = ['customer_id', 'LTV']\n",
    "\n",
    "# Get the top 10 customers with the highest LTV\n",
    "#sorted in descending order based on LTV, and the top 10 customers\n",
    "top_customers = ltv.sort_values(by='LTV', ascending=False).head(10)\n",
    "\n",
    "# Print the results\n",
    "print(top_customers)\n"
   ]
  },
  {
   "cell_type": "code",
   "execution_count": null,
   "id": "d8984385",
   "metadata": {},
   "outputs": [],
   "source": []
  },
  {
   "cell_type": "code",
   "execution_count": null,
   "id": "9ee12f26",
   "metadata": {},
   "outputs": [],
   "source": []
  }
 ],
 "metadata": {
  "kernelspec": {
   "display_name": "Python 3 (ipykernel)",
   "language": "python",
   "name": "python3"
  },
  "language_info": {
   "codemirror_mode": {
    "name": "ipython",
    "version": 3
   },
   "file_extension": ".py",
   "mimetype": "text/x-python",
   "name": "python",
   "nbconvert_exporter": "python",
   "pygments_lexer": "ipython3",
   "version": "3.9.13"
  }
 },
 "nbformat": 4,
 "nbformat_minor": 5
}
